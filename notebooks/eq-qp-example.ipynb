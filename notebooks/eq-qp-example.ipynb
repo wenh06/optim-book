{
 "cells": [
  {
   "cell_type": "markdown",
   "id": "4e128144",
   "metadata": {},
   "source": [
    "# 利用直接消元法以及广义消元法求解等式约束的二次规划问题\n",
    "\n",
    "\\begin{equation*}\n",
    "\\begin{array}{cl}\n",
    "\\text{minimize} & q(x) = x_1^2 + x_2^2 + 2x_3^2 + 5x_1x_2 - 3x_2 - 7x_3, \\\\\n",
    "\\text{subject to} & x_1 + x_2 + x_3 = 1, \\\\\n",
    "& x_1 - 2x_2 - 3x_3 = -2,\n",
    "\\end{array}\n",
    "\\end{equation*}\n"
   ]
  },
  {
   "cell_type": "code",
   "execution_count": null,
   "id": "0b36e211",
   "metadata": {},
   "outputs": [],
   "source": [
    "import sympy as sp"
   ]
  },
  {
   "cell_type": "code",
   "execution_count": null,
   "id": "31ba2fbb",
   "metadata": {},
   "outputs": [],
   "source": [
    "x1, x2, x3 = sp.symbols(\"x1, x2, x3\")\n",
    "qx = x1**2 + x2**2 + 2 * x3**2 + 5 * x1 * x2 - 3 * x2 - 7 * x3"
   ]
  },
  {
   "cell_type": "code",
   "execution_count": null,
   "id": "10696adc",
   "metadata": {},
   "outputs": [],
   "source": [
    "G = sp.Matrix(3, 3, [2, 5, 0, 5, 2, 0, 0, 0, 4])\n",
    "d = sp.Matrix(3, 1, [0, -3, -7])\n",
    "A = sp.Matrix(3, 2, [1, 1, 1, -2, 1, -3])\n",
    "b = sp.Matrix(2, 1, [1, -2])"
   ]
  },
  {
   "cell_type": "code",
   "execution_count": null,
   "id": "86e45f68",
   "metadata": {},
   "outputs": [],
   "source": []
  },
  {
   "cell_type": "markdown",
   "id": "86d18e7c",
   "metadata": {},
   "source": [
    "## 直接消元法"
   ]
  },
  {
   "cell_type": "code",
   "execution_count": null,
   "id": "4036c1e5",
   "metadata": {},
   "outputs": [],
   "source": [
    "psi = sp.simplify(\n",
    "    qx.subs([(x1, sp.Rational(1, 3) * x3), (x2, 1 - sp.Rational(4, 3) * x3)])\n",
    ")\n",
    "psi"
   ]
  },
  {
   "cell_type": "code",
   "execution_count": null,
   "id": "63808025",
   "metadata": {},
   "outputs": [],
   "source": [
    "# Hessian\n",
    "\n",
    "sp.diff(psi, (x3, 2))"
   ]
  },
  {
   "cell_type": "code",
   "execution_count": null,
   "id": "a5912069",
   "metadata": {},
   "outputs": [],
   "source": [
    "x3_star = list(sp.roots(sp.diff(psi, (x3, 1)), x3))[0]\n",
    "x3_star"
   ]
  },
  {
   "cell_type": "code",
   "execution_count": null,
   "id": "63716c31",
   "metadata": {},
   "outputs": [],
   "source": [
    "A1 = A[:2, :]\n",
    "A2 = A[2:, :]\n",
    "\n",
    "[x1_star, x2_star] = A1.T.inv() @ (b - A2.T @ sp.Matrix([x3_star]))\n",
    "x1_star, x2_star"
   ]
  },
  {
   "cell_type": "code",
   "execution_count": null,
   "id": "8ea1bd43",
   "metadata": {},
   "outputs": [],
   "source": [
    "g = -G @ sp.Matrix(3, 1, [sp.Rational(2, 5), -sp.Rational(3, 5), sp.Rational(6, 5)]) - d\n",
    "g"
   ]
  },
  {
   "cell_type": "code",
   "execution_count": null,
   "id": "598ca3c7",
   "metadata": {},
   "outputs": [],
   "source": [
    "lambda_star = sp.Matrix(2, 1, list(sp.linsolve((A, g)))[0])\n",
    "lambda_star"
   ]
  },
  {
   "cell_type": "code",
   "execution_count": null,
   "id": "cd12c620",
   "metadata": {},
   "outputs": [],
   "source": []
  },
  {
   "cell_type": "markdown",
   "id": "e843e5cf",
   "metadata": {},
   "source": [
    "## 广义消元法"
   ]
  },
  {
   "cell_type": "code",
   "execution_count": null,
   "id": "9ef9fdd8",
   "metadata": {},
   "outputs": [],
   "source": [
    "q, r = A.QRdecomposition()"
   ]
  },
  {
   "cell_type": "code",
   "execution_count": null,
   "id": "df240cb6",
   "metadata": {},
   "outputs": [],
   "source": [
    "q"
   ]
  },
  {
   "cell_type": "code",
   "execution_count": null,
   "id": "8f0fe2c6",
   "metadata": {},
   "outputs": [],
   "source": [
    "r"
   ]
  },
  {
   "cell_type": "code",
   "execution_count": null,
   "id": "59a00a1e",
   "metadata": {},
   "outputs": [],
   "source": [
    "Y = q @ r.T.inv()\n",
    "Y"
   ]
  },
  {
   "cell_type": "code",
   "execution_count": null,
   "id": "b7214ca6",
   "metadata": {},
   "outputs": [],
   "source": [
    "sp.linsolve((q.T, sp.zeros(2, 1))) == sp.linsolve((A.T, sp.zeros(2, 1)))"
   ]
  },
  {
   "cell_type": "code",
   "execution_count": null,
   "id": "7dd32f8c",
   "metadata": {},
   "outputs": [],
   "source": [
    "Z = sp.Matrix(list(sp.linsolve((A.T, sp.zeros(2, 1)))))\n",
    "Z = Z.subs(\"tau0\", 1).T\n",
    "Z = Z / Z.norm()\n",
    "Z"
   ]
  },
  {
   "cell_type": "code",
   "execution_count": null,
   "id": "0cf25558",
   "metadata": {},
   "outputs": [],
   "source": [
    "# Hessian\n",
    "\n",
    "Z.T @ G @ Z"
   ]
  },
  {
   "cell_type": "code",
   "execution_count": null,
   "id": "384981e5",
   "metadata": {},
   "outputs": [],
   "source": [
    "-Z.T @ (d + G @ Y @ b)"
   ]
  },
  {
   "cell_type": "code",
   "execution_count": null,
   "id": "55fc1594",
   "metadata": {},
   "outputs": [],
   "source": [
    "y_star = ((Z.T @ G @ Z).inv() @ (-Z.T @ (d + G @ Y @ b)))[0]\n",
    "y_star"
   ]
  },
  {
   "cell_type": "code",
   "execution_count": null,
   "id": "de095396",
   "metadata": {},
   "outputs": [],
   "source": [
    "x_star = Y @ b + Z @ sp.Matrix([y_star])\n",
    "x_star"
   ]
  },
  {
   "cell_type": "code",
   "execution_count": null,
   "id": "f1efd27e",
   "metadata": {},
   "outputs": [],
   "source": [
    "lambda_star = -Y.T @ (G @ x_star + d)\n",
    "lambda_star"
   ]
  },
  {
   "cell_type": "code",
   "execution_count": null,
   "id": "8174a413",
   "metadata": {},
   "outputs": [],
   "source": []
  },
  {
   "cell_type": "markdown",
   "id": "b8da46bd",
   "metadata": {},
   "source": [
    "## 数值求解"
   ]
  },
  {
   "cell_type": "code",
   "execution_count": null,
   "id": "0cc4d175",
   "metadata": {},
   "outputs": [],
   "source": [
    "import numpy as np\n",
    "from scipy import linalg as SLA\n",
    "\n",
    "from qp_algo import qp_eq, qp_eq_qr"
   ]
  },
  {
   "cell_type": "code",
   "execution_count": null,
   "id": "10653871",
   "metadata": {},
   "outputs": [],
   "source": [
    "G_mat = np.array([[2, 5, 0], [5, 2, 0], [0, 0, 4]])\n",
    "A_mat = np.array([[1, 1], [1, -2], [1, -3]])\n",
    "d_vec = np.array([0, -3, -7])\n",
    "b_vec = np.array([1, -2])"
   ]
  },
  {
   "cell_type": "code",
   "execution_count": null,
   "id": "bf135910",
   "metadata": {},
   "outputs": [],
   "source": [
    "sol, lam = qp_eq(G_mat, d_vec, A_mat, b_vec)"
   ]
  },
  {
   "cell_type": "code",
   "execution_count": null,
   "id": "832cc322",
   "metadata": {},
   "outputs": [],
   "source": [
    "sol"
   ]
  },
  {
   "cell_type": "code",
   "execution_count": null,
   "id": "27622f20",
   "metadata": {},
   "outputs": [],
   "source": [
    "lam"
   ]
  },
  {
   "cell_type": "code",
   "execution_count": null,
   "id": "bd2640a2",
   "metadata": {},
   "outputs": [],
   "source": []
  },
  {
   "cell_type": "code",
   "execution_count": null,
   "id": "976a9d96",
   "metadata": {},
   "outputs": [],
   "source": [
    "Q_mat, R_mat = SLA.qr(A_mat)\n",
    "\n",
    "sol, lam = qp_eq_qr(G_mat, d_vec, A_mat, Q_mat, R_mat, b_vec)"
   ]
  },
  {
   "cell_type": "code",
   "execution_count": null,
   "id": "5f79500e",
   "metadata": {},
   "outputs": [],
   "source": [
    "sol"
   ]
  },
  {
   "cell_type": "code",
   "execution_count": null,
   "id": "97e07b6a",
   "metadata": {},
   "outputs": [],
   "source": [
    "lam"
   ]
  },
  {
   "cell_type": "code",
   "execution_count": null,
   "id": "7a7cb377",
   "metadata": {},
   "outputs": [],
   "source": []
  },
  {
   "cell_type": "code",
   "execution_count": null,
   "id": "12d115e2",
   "metadata": {},
   "outputs": [],
   "source": []
  },
  {
   "cell_type": "markdown",
   "id": "9ca63e64",
   "metadata": {},
   "source": [
    "# 利用积极集法求解含不等式约束的二次规划问题\n",
    "\n",
    "\\begin{equation*}\n",
    "\\begin{array}{cl}\n",
    "\\text{minimize} & q(x) = (x_1 - 1)^2 + (x_2 - 2.5)^2, \\\\\n",
    "\\text{subject to} & -x_1 + 2x_2 - 2 \\leqslant 0, \\\\\n",
    "& x_1 + 2x_2 - 6 \\leqslant 0, \\\\\n",
    "& x_1 - 2x_2 - 2 \\leqslant 0, \\\\\n",
    "& -x_1 \\leqslant 0, \\\\\n",
    "& -x_2 \\leqslant 0,\n",
    "\\end{array}\n",
    "\\end{equation*}"
   ]
  },
  {
   "cell_type": "code",
   "execution_count": null,
   "id": "ea3823a8",
   "metadata": {},
   "outputs": [],
   "source": [
    "import numpy as np\n",
    "from scipy import linalg as SLA\n",
    "\n",
    "from qp_algo import qp_active_set"
   ]
  },
  {
   "cell_type": "code",
   "execution_count": null,
   "id": "b9864309",
   "metadata": {},
   "outputs": [],
   "source": [
    "G_mat_asm = 2 * np.eye(2, dtype=float)\n",
    "A_mat_asm = np.array([[-1, 2], [1, 2], [1, -2], [-1, 0], [0, -1]], dtype=float).T\n",
    "b_vec_asm = np.array([2, 6, 2, 0, 0], dtype=float)\n",
    "d_vec_asm = np.array([-2, -5], dtype=float)"
   ]
  },
  {
   "cell_type": "code",
   "execution_count": null,
   "id": "1de5d8e7",
   "metadata": {},
   "outputs": [],
   "source": []
  },
  {
   "cell_type": "code",
   "execution_count": null,
   "id": "6c51b50f",
   "metadata": {},
   "outputs": [],
   "source": [
    "sol, trace_dict = qp_active_set(\n",
    "    G_mat_asm,\n",
    "    d_vec_asm,\n",
    "    A_mat_asm,\n",
    "    b_vec_asm,\n",
    "    np.array([2, 0], dtype=float),\n",
    "    0,\n",
    "    verbose=True,\n",
    ")"
   ]
  },
  {
   "cell_type": "code",
   "execution_count": null,
   "id": "28c81f04",
   "metadata": {},
   "outputs": [],
   "source": [
    "sol"
   ]
  },
  {
   "cell_type": "code",
   "execution_count": null,
   "id": "07f82152",
   "metadata": {},
   "outputs": [],
   "source": []
  }
 ],
 "metadata": {
  "kernelspec": {
   "display_name": "Python 3",
   "language": "python",
   "name": "python3"
  },
  "language_info": {
   "codemirror_mode": {
    "name": "ipython",
    "version": 3
   },
   "file_extension": ".py",
   "mimetype": "text/x-python",
   "name": "python",
   "nbconvert_exporter": "python",
   "pygments_lexer": "ipython3",
   "version": "3.6.9"
  }
 },
 "nbformat": 4,
 "nbformat_minor": 5
}

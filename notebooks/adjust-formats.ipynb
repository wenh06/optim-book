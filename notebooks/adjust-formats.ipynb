{
 "cells": [
  {
   "cell_type": "code",
   "execution_count": null,
   "id": "5c41a21f",
   "metadata": {},
   "outputs": [],
   "source": [
    "from pathlib import Path\n",
    "\n",
    "from bib_lookup.utils import gather_tex_source_files_in_one"
   ]
  },
  {
   "cell_type": "code",
   "execution_count": null,
   "id": "3d8e684b",
   "metadata": {},
   "outputs": [],
   "source": [
    "entry_file = Path(\"../chap7.tex\").resolve()"
   ]
  },
  {
   "cell_type": "code",
   "execution_count": null,
   "id": "8f0f53d1",
   "metadata": {},
   "outputs": [],
   "source": [
    "gather_tex_source_files_in_one(entry_file, write_file=True)"
   ]
  },
  {
   "cell_type": "code",
   "execution_count": null,
   "id": "2ff68929",
   "metadata": {},
   "outputs": [],
   "source": []
  }
 ],
 "metadata": {
  "kernelspec": {
   "display_name": "Python 3",
   "language": "python",
   "name": "python3"
  },
  "language_info": {
   "codemirror_mode": {
    "name": "ipython",
    "version": 3
   },
   "file_extension": ".py",
   "mimetype": "text/x-python",
   "name": "python",
   "nbconvert_exporter": "python",
   "pygments_lexer": "ipython3",
   "version": "3.6.9"
  }
 },
 "nbformat": 4,
 "nbformat_minor": 5
}

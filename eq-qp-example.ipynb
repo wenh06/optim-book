{
 "cells": [
  {
   "cell_type": "markdown",
   "id": "4e128144",
   "metadata": {},
   "source": [
    "# 利用直接消元法以及广义消元法求解等式约束的二次规划问题\n",
    "\n",
    "\\begin{equation*}\n",
    "\\begin{array}{cl}\n",
    "\\text{minimize} & q(x) = x_1^2 + x_2^2 + 2x_3^2 + 5x_1x_2 - 3x_2 - 7x_3, \\\\\n",
    "\\text{subject to} & x_1 + x_2 + x_3 = 1, \\\\\n",
    "& x_1 - 2x_2 - 3x_3 = -2,\n",
    "\\end{array}\n",
    "\\end{equation*}\n"
   ]
  },
  {
   "cell_type": "code",
   "execution_count": null,
   "id": "0b36e211",
   "metadata": {},
   "outputs": [],
   "source": [
    "import sympy as sp"
   ]
  },
  {
   "cell_type": "code",
   "execution_count": null,
   "id": "31ba2fbb",
   "metadata": {},
   "outputs": [],
   "source": [
    "x1, x2, x3 = sp.symbols(\"x1, x2, x3\")\n",
    "qx = x1**2 + x2**2 + 2 * x3**2 + 5 * x1 * x2 - 3 * x2 - 7 * x3"
   ]
  },
  {
   "cell_type": "code",
   "execution_count": null,
   "id": "10696adc",
   "metadata": {},
   "outputs": [],
   "source": [
    "G = sp.Matrix(3, 3, [2, 5, 0, 5, 2, 0, 0, 0, 4])\n",
    "d = sp.Matrix(3, 1, [0, -3, -7])\n",
    "A = sp.Matrix(3, 2, [1, 1, 1, -2, 1, -3])\n",
    "b = sp.Matrix(2, 1, [1, -2])"
   ]
  },
  {
   "cell_type": "code",
   "execution_count": null,
   "id": "86e45f68",
   "metadata": {},
   "outputs": [],
   "source": []
  },
  {
   "cell_type": "markdown",
   "id": "86d18e7c",
   "metadata": {},
   "source": [
    "## 直接消元法"
   ]
  },
  {
   "cell_type": "code",
   "execution_count": null,
   "id": "4036c1e5",
   "metadata": {},
   "outputs": [],
   "source": [
    "psi = sp.simplify(qx.subs([(x1, sp.Rational(1, 3) * x3), (x2, 1 - sp.Rational(4, 3) * x3)]))\n",
    "psi"
   ]
  },
  {
   "cell_type": "code",
   "execution_count": null,
   "id": "63808025",
   "metadata": {},
   "outputs": [],
   "source": [
    "sp.diff(psi, (x3, 2))"
   ]
  },
  {
   "cell_type": "code",
   "execution_count": null,
   "id": "a5912069",
   "metadata": {},
   "outputs": [],
   "source": [
    "sp.diff(psi, (x3, 1))"
   ]
  },
  {
   "cell_type": "code",
   "execution_count": null,
   "id": "8ea1bd43",
   "metadata": {},
   "outputs": [],
   "source": [
    "g = - G @ sp.Matrix(3, 1, [sp.Rational(2, 5), -sp.Rational(3, 5), sp.Rational(6, 5)]) - d\n",
    "g"
   ]
  },
  {
   "cell_type": "code",
   "execution_count": null,
   "id": "598ca3c7",
   "metadata": {},
   "outputs": [],
   "source": [
    "sp.linsolve((A, g))"
   ]
  },
  {
   "cell_type": "code",
   "execution_count": null,
   "id": "cd12c620",
   "metadata": {},
   "outputs": [],
   "source": []
  },
  {
   "cell_type": "markdown",
   "id": "e843e5cf",
   "metadata": {},
   "source": [
    "## 广义消元法"
   ]
  },
  {
   "cell_type": "code",
   "execution_count": null,
   "id": "9ef9fdd8",
   "metadata": {},
   "outputs": [],
   "source": [
    "q, r = A.QRdecomposition()"
   ]
  },
  {
   "cell_type": "code",
   "execution_count": null,
   "id": "df240cb6",
   "metadata": {},
   "outputs": [],
   "source": [
    "q"
   ]
  },
  {
   "cell_type": "code",
   "execution_count": null,
   "id": "8f0fe2c6",
   "metadata": {},
   "outputs": [],
   "source": [
    "r"
   ]
  },
  {
   "cell_type": "code",
   "execution_count": null,
   "id": "59a00a1e",
   "metadata": {},
   "outputs": [],
   "source": [
    "Y = q @ r.T.inv()\n",
    "Y"
   ]
  },
  {
   "cell_type": "code",
   "execution_count": null,
   "id": "b7214ca6",
   "metadata": {},
   "outputs": [],
   "source": [
    "sp.linsolve((q.T, sp.zeros(2, 1))) == sp.linsolve((A.T, sp.zeros(2, 1)))"
   ]
  },
  {
   "cell_type": "code",
   "execution_count": null,
   "id": "4029edf9",
   "metadata": {},
   "outputs": [],
   "source": [
    "sp.linsolve((q.T, sp.zeros(2, 1)))"
   ]
  },
  {
   "cell_type": "code",
   "execution_count": null,
   "id": "7dd32f8c",
   "metadata": {},
   "outputs": [],
   "source": [
    "Z = sp.Matrix(3, 1, [1, -4, 3])\n",
    "Z = Z / Z.norm()\n",
    "Z"
   ]
  },
  {
   "cell_type": "code",
   "execution_count": null,
   "id": "0cf25558",
   "metadata": {},
   "outputs": [],
   "source": [
    "Z.T @ G @ Z"
   ]
  },
  {
   "cell_type": "code",
   "execution_count": null,
   "id": "384981e5",
   "metadata": {},
   "outputs": [],
   "source": [
    "-Z.T @ (d + G @ Y @ b)"
   ]
  },
  {
   "cell_type": "code",
   "execution_count": null,
   "id": "55fc1594",
   "metadata": {},
   "outputs": [],
   "source": [
    "y_star = (Z.T @ G @ Z).inv() @ (-Z.T @ (d + G @ Y @ b))\n",
    "y_star"
   ]
  },
  {
   "cell_type": "code",
   "execution_count": null,
   "id": "de095396",
   "metadata": {},
   "outputs": [],
   "source": [
    "x_star = Y @ b + Z @ y_star\n",
    "x_star"
   ]
  },
  {
   "cell_type": "code",
   "execution_count": null,
   "id": "f1efd27e",
   "metadata": {},
   "outputs": [],
   "source": [
    "lambda_star = - Y.T @ (G @ x_star + d)\n",
    "lambda_star"
   ]
  },
  {
   "cell_type": "code",
   "execution_count": null,
   "id": "10653871",
   "metadata": {},
   "outputs": [],
   "source": []
  }
 ],
 "metadata": {
  "kernelspec": {
   "display_name": "Python 3",
   "language": "python",
   "name": "python3"
  },
  "language_info": {
   "codemirror_mode": {
    "name": "ipython",
    "version": 3
   },
   "file_extension": ".py",
   "mimetype": "text/x-python",
   "name": "python",
   "nbconvert_exporter": "python",
   "pygments_lexer": "ipython3",
   "version": "3.6.9"
  }
 },
 "nbformat": 4,
 "nbformat_minor": 5
}
